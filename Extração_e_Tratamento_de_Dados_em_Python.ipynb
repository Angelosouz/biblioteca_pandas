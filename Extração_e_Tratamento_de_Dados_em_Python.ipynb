{
  "nbformat": 4,
  "nbformat_minor": 0,
  "metadata": {
    "colab": {
      "provenance": [],
      "authorship_tag": "ABX9TyP0TU20L56mGDhl7ySojSCq",
      "include_colab_link": true
    },
    "kernelspec": {
      "name": "python3",
      "display_name": "Python 3"
    },
    "language_info": {
      "name": "python"
    }
  },
  "cells": [
    {
      "cell_type": "markdown",
      "metadata": {
        "id": "view-in-github",
        "colab_type": "text"
      },
      "source": [
        "<a href=\"https://colab.research.google.com/github/angelosou/biblioteca_pandas/blob/main/Extra%C3%A7%C3%A3o_e_Tratamento_de_Dados_em_Python.ipynb\" target=\"_parent\"><img src=\"https://colab.research.google.com/assets/colab-badge.svg\" alt=\"Open In Colab\"/></a>"
      ]
    },
    {
      "cell_type": "code",
      "source": [
        "import pandas as pd"
      ],
      "metadata": {
        "id": "JFDlPPY9QyXF"
      },
      "execution_count": null,
      "outputs": []
    },
    {
      "cell_type": "code",
      "source": [
        "df = pd.read_csv(\"/content/data.csv\")"
      ],
      "metadata": {
        "id": "RLOwIiHfcvDW"
      },
      "execution_count": null,
      "outputs": []
    },
    {
      "cell_type": "code",
      "source": [
        "print(df.dtypes)"
      ],
      "metadata": {
        "id": "l0thtPdoc_H2"
      },
      "execution_count": null,
      "outputs": []
    },
    {
      "cell_type": "code",
      "source": [
        "print(df.head())"
      ],
      "metadata": {
        "id": "isJY-qmycsUW"
      },
      "execution_count": null,
      "outputs": []
    },
    {
      "cell_type": "code",
      "source": [
        "print(df.isnull().sum())"
      ],
      "metadata": {
        "id": "iQ6ZAk-7dExl"
      },
      "execution_count": null,
      "outputs": []
    },
    {
      "cell_type": "code",
      "source": [
        "import matplotlib.pyplot as plt\n",
        "\n",
        "plt.hist(df['UnitPrice'])\n",
        "plt.show()\n",
        "\n",
        "plt.boxplot(df['Quantity'])\n",
        "plt.show()"
      ],
      "metadata": {
        "id": "ARRA1lMRdI7l"
      },
      "execution_count": null,
      "outputs": []
    },
    {
      "cell_type": "code",
      "source": [
        "nulos_customerid = df['CustomerID'].isna().sum()\n",
        "\n",
        "print(\"Número de valores nulos em CustomerID:\", nulos_customerid)"
      ],
      "metadata": {
        "id": "BxrnwBvZeLbe"
      },
      "execution_count": null,
      "outputs": []
    },
    {
      "cell_type": "code",
      "source": [
        "if nulos_customerid > 0:\n",
        "    df.dropna(subset=['CustomerID'], inplace=True)\n",
        "    print(\"Linhas com valores nulos em CustomerID foram removidas.\")\n",
        "else:\n",
        "    print(\"Não há valores nulos em CustomerID.\")"
      ],
      "metadata": {
        "id": "PzJS8V7heRac"
      },
      "execution_count": null,
      "outputs": []
    },
    {
      "cell_type": "code",
      "source": [
        "df = df[df['UnitPrice'] > 0]"
      ],
      "metadata": {
        "id": "06gKIHzieqKF"
      },
      "execution_count": null,
      "outputs": []
    },
    {
      "cell_type": "code",
      "source": [
        "df = df[df['Quantity'] > 0]"
      ],
      "metadata": {
        "id": "_OFbmR8Cet_9"
      },
      "execution_count": null,
      "outputs": []
    },
    {
      "cell_type": "code",
      "source": [
        "linhas_antes = df.shape[0]\n",
        "\n",
        "linhas_depois = df.shape[0]\n",
        "print(\"Número de linhas removidas:\", linhas_antes - linhas_depois)"
      ],
      "metadata": {
        "id": "xhYDl9mLexrz"
      },
      "execution_count": null,
      "outputs": []
    },
    {
      "cell_type": "code",
      "source": [
        "duplicadas = df[df.duplicated()]\n",
        "\n",
        "print(\"Número de linhas duplicadas:\", duplicadas.shape[0])"
      ],
      "metadata": {
        "id": "aWTEEFAZfOhy"
      },
      "execution_count": null,
      "outputs": []
    },
    {
      "cell_type": "code",
      "source": [
        "if duplicadas.shape[0] > 0:\n",
        "    df.drop_duplicates(inplace=True)\n",
        "    print(\"Linhas duplicadas removidas.\")\n",
        "else:\n",
        "    print(\"Não há linhas duplicadas no DataFrame.\")"
      ],
      "metadata": {
        "id": "lyaaHOPGfV0K"
      },
      "execution_count": null,
      "outputs": []
    },
    {
      "cell_type": "code",
      "source": [
        "print(\"Tipo de dado atual de CustomerID:\", df['CustomerID'].dtype)\n",
        "\n",
        "df['CustomerID'] = df['CustomerID'].astype(str)\n",
        "\n",
        "print(\"Novo tipo de dado de CustomerID:\", df['CustomerID'].dtype)"
      ],
      "metadata": {
        "id": "Re0qsZEPfr1K"
      },
      "execution_count": null,
      "outputs": []
    },
    {
      "cell_type": "code",
      "source": [
        "import matplotlib.pyplot as plt\n",
        "\n",
        "plt.boxplot(df['Quantity'])\n",
        "plt.title(\"Boxplot da quantidade de itens\")\n",
        "plt.show()\n",
        "\n",
        "plt.boxplot(df['UnitPrice'])\n",
        "plt.title(\"Boxplot do preço unitário\")\n",
        "plt.show()"
      ],
      "metadata": {
        "id": "Yce8F1PCgPpI"
      },
      "execution_count": null,
      "outputs": []
    },
    {
      "cell_type": "code",
      "source": [
        "df['TotalCompra'] = df['Quantity'] * df['UnitPrice']\n",
        "print(df.head())\n",
        "df['TotalCompra'] = df['TotalCompra'].apply(lambda x: f\"R${x:.2f}\")"
      ],
      "metadata": {
        "id": "QLNKC9tFgetZ"
      },
      "execution_count": null,
      "outputs": []
    },
    {
      "cell_type": "code",
      "source": [
        "data_ultima_compra = df['InvoiceDate'].max()\n",
        "\n",
        "print(\"Data da última compra:\", data_ultima_compra)"
      ],
      "metadata": {
        "id": "AptuT1ptgjFP"
      },
      "execution_count": null,
      "outputs": []
    },
    {
      "cell_type": "code",
      "source": [
        "df['CustomerID'] = df['CustomerID'].astype(str)\n",
        "df['InvoiceDate'] = pd.to_datetime(df['InvoiceDate'])\n",
        "df = df[ (df['UnitPrice'] > 0) & (df['Quantity'] > 0) ]\n",
        "df.drop_duplicates(inplace=True)\n",
        "df['TotalCompra'] = df['Quantity'] * df['UnitPrice']\n",
        "data_ultima_compra = df['InvoiceDate'].max()\n",
        "top_10_paises = df.groupby('Country')['TotalCompra'].sum().sort_values(ascending=False).head(10)\n",
        "top_10_paises.plot(kind='bar', figsize=(10,6))"
      ],
      "metadata": {
        "id": "va5bFY5yozJP"
      },
      "execution_count": null,
      "outputs": []
    },
    {
      "cell_type": "code",
      "source": [
        "produtos_vendidos = df.groupby('Description')['Quantity'].sum().sort_values(ascending=False)\n",
        "top_10_produtos = produtos_vendidos.head(10)\n",
        "top_10_produtos.plot(kind='bar', figsize=(10,6))\n",
        "plt.xlabel(\"Descrição do produto\")\n",
        "plt.ylabel(\"Quantidade vendida\")\n",
        "plt.title(\"Top 10 produtos mais vendidos\")\n",
        "plt.show()"
      ],
      "metadata": {
        "id": "rOzvQDo1o69n"
      },
      "execution_count": null,
      "outputs": []
    },
    {
      "cell_type": "code",
      "source": [
        "df['Mes'] = df['InvoiceDate'].dt.month\n",
        "vendas_por_mes = df.groupby('Mes')['TotalCompra'].sum()\n",
        "vendas_por_mes.plot(kind='line', figsize=(10,6))\n",
        "plt.xlabel(\"Mês\")\n",
        "plt.ylabel(\"Valor total das vendas\")\n",
        "plt.title(\"Valor de venda total por mês\")\n",
        "plt.show()"
      ],
      "metadata": {
        "id": "yfXCUZESpegF"
      },
      "execution_count": null,
      "outputs": []
    },
    {
      "cell_type": "code",
      "source": [
        "df_top_paises = df[df['Country'].isin(top_10_paises.index)]\n",
        "\n",
        "vendas_mes_pais = df_top_paises.groupby(['Mes', 'Country'])['TotalCompra'].sum()\n",
        "\n",
        "vendas_mes_pais.unstack().plot(kind='line', figsize=(10,6))\n",
        "plt.xlabel(\"Mês\")\n",
        "plt.ylabel(\"Valor total das vendas\")\n",
        "plt.title(\"Valor de venda total por mês e por país (top 10)\")\n",
        "plt.legend(title=\"País\", loc='upper right')\n",
        "plt.show()"
      ],
      "metadata": {
        "id": "2aFQMyiNpmUd"
      },
      "execution_count": null,
      "outputs": []
    },
    {
      "cell_type": "code",
      "source": [
        "ultima_compra_cliente = df.groupby('CustomerID')['InvoiceDate'].max().reset_index()\n",
        "ultima_compra_cliente.rename(columns={'InvoiceDate': 'UltimaCompra'}, inplace=True)\n",
        "print(ultima_compra_cliente.head())"
      ],
      "metadata": {
        "id": "YT91z1vkq3Ob"
      },
      "execution_count": null,
      "outputs": []
    },
    {
      "cell_type": "code",
      "source": [
        "rfm_table = df.groupby('CustomerID').agg({\n",
        "    'InvoiceNo': 'count',\n",
        "    'TotalCompra': 'mean'\n",
        "}).reset_index()\n",
        "rfm_table.rename(columns={'InvoiceNo': 'F',\n",
        "                         'TotalCompra': 'M'}, inplace=True)\n",
        "print(rfm_table.head())"
      ],
      "metadata": {
        "id": "Jyf3Mst0q-Zb"
      },
      "execution_count": null,
      "outputs": []
    },
    {
      "cell_type": "code",
      "source": [
        "rfm_table = pd.merge(rfm_table, ultima_compra_cliente, on='CustomerID')\n",
        "rfm_table['R'] = (data_ultima_compra - rfm_table['UltimaCompra']).dt.days\n",
        "print(rfm_table.head())"
      ],
      "metadata": {
        "id": "ckRw9EifrA9z"
      },
      "execution_count": null,
      "outputs": []
    }
  ]
}