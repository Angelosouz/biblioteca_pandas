{
  "nbformat": 4,
  "nbformat_minor": 0,
  "metadata": {
    "colab": {
      "provenance": [],
      "authorship_tag": "ABX9TyOSV0O47DIRYgNTVjZy5IOb",
      "include_colab_link": true
    },
    "kernelspec": {
      "name": "python3",
      "display_name": "Python 3"
    },
    "language_info": {
      "name": "python"
    }
  },
  "cells": [
    {
      "cell_type": "markdown",
      "metadata": {
        "id": "view-in-github",
        "colab_type": "text"
      },
      "source": [
        "<a href=\"https://colab.research.google.com/github/angelosou/biblioteca_pandas/blob/main/ATIVIDADE_ESCOLA_DE_DADOS_PYTHON.ipynb\" target=\"_parent\"><img src=\"https://colab.research.google.com/assets/colab-badge.svg\" alt=\"Open In Colab\"/></a>"
      ]
    },
    {
      "cell_type": "markdown",
      "source": [
        "ATIVIDADE"
      ],
      "metadata": {
        "id": "3Y6J6UvbCQn7"
      }
    },
    {
      "cell_type": "code",
      "execution_count": 1,
      "metadata": {
        "colab": {
          "base_uri": "https://localhost:8080/",
          "height": 356
        },
        "collapsed": true,
        "id": "ohR7HWbCCD2c",
        "outputId": "81ff2158-6b29-4871-a49a-d05a5c1cf5aa"
      },
      "outputs": [
        {
          "output_type": "error",
          "ename": "KeyboardInterrupt",
          "evalue": "Interrupted by user",
          "traceback": [
            "\u001b[0;31m---------------------------------------------------------------------------\u001b[0m",
            "\u001b[0;31mKeyboardInterrupt\u001b[0m                         Traceback (most recent call last)",
            "\u001b[0;32m<ipython-input-1-84bde65e3662>\u001b[0m in \u001b[0;36m<cell line: 1>\u001b[0;34m()\u001b[0m\n\u001b[0;32m----> 1\u001b[0;31m \u001b[0mcliente_nome\u001b[0m \u001b[0;34m=\u001b[0m \u001b[0mstr\u001b[0m\u001b[0;34m(\u001b[0m\u001b[0minput\u001b[0m\u001b[0;34m(\u001b[0m\u001b[0;34m'Insira o seu nome: '\u001b[0m\u001b[0;34m)\u001b[0m\u001b[0;34m)\u001b[0m\u001b[0;34m\u001b[0m\u001b[0;34m\u001b[0m\u001b[0m\n\u001b[0m\u001b[1;32m      2\u001b[0m \u001b[0mcliente_nascimento_ano\u001b[0m \u001b[0;34m=\u001b[0m \u001b[0mint\u001b[0m\u001b[0;34m(\u001b[0m\u001b[0minput\u001b[0m\u001b[0;34m(\u001b[0m\u001b[0;34m'Insira seu ano de nascimento: '\u001b[0m\u001b[0;34m)\u001b[0m\u001b[0;34m)\u001b[0m\u001b[0;34m\u001b[0m\u001b[0;34m\u001b[0m\u001b[0m\n\u001b[1;32m      3\u001b[0m \u001b[0mano_atual\u001b[0m \u001b[0;34m=\u001b[0m \u001b[0;36m2021\u001b[0m\u001b[0;34m\u001b[0m\u001b[0;34m\u001b[0m\u001b[0m\n\u001b[1;32m      4\u001b[0m \u001b[0;32mif\u001b[0m\u001b[0;34m(\u001b[0m \u001b[0;34m(\u001b[0m \u001b[0mano_atual\u001b[0m \u001b[0;34m-\u001b[0m \u001b[0mcliente_nascimento_ano\u001b[0m \u001b[0;34m)\u001b[0m \u001b[0;34m>=\u001b[0m \u001b[0;36m18\u001b[0m \u001b[0;34m)\u001b[0m\u001b[0;34m:\u001b[0m\u001b[0;34m\u001b[0m\u001b[0;34m\u001b[0m\u001b[0m\n\u001b[1;32m      5\u001b[0m   \u001b[0mprint\u001b[0m\u001b[0;34m(\u001b[0m\u001b[0;34mf\">> {cliente_nome} você pode comprar bebidas \"\u001b[0m\u001b[0;34m)\u001b[0m\u001b[0;34m;\u001b[0m\u001b[0;34m\u001b[0m\u001b[0;34m\u001b[0m\u001b[0m\n",
            "\u001b[0;32m/usr/local/lib/python3.10/dist-packages/ipykernel/kernelbase.py\u001b[0m in \u001b[0;36mraw_input\u001b[0;34m(self, prompt)\u001b[0m\n\u001b[1;32m    849\u001b[0m                 \u001b[0;34m\"raw_input was called, but this frontend does not support input requests.\"\u001b[0m\u001b[0;34m\u001b[0m\u001b[0;34m\u001b[0m\u001b[0m\n\u001b[1;32m    850\u001b[0m             )\n\u001b[0;32m--> 851\u001b[0;31m         return self._input_request(str(prompt),\n\u001b[0m\u001b[1;32m    852\u001b[0m             \u001b[0mself\u001b[0m\u001b[0;34m.\u001b[0m\u001b[0m_parent_ident\u001b[0m\u001b[0;34m,\u001b[0m\u001b[0;34m\u001b[0m\u001b[0;34m\u001b[0m\u001b[0m\n\u001b[1;32m    853\u001b[0m             \u001b[0mself\u001b[0m\u001b[0;34m.\u001b[0m\u001b[0m_parent_header\u001b[0m\u001b[0;34m,\u001b[0m\u001b[0;34m\u001b[0m\u001b[0;34m\u001b[0m\u001b[0m\n",
            "\u001b[0;32m/usr/local/lib/python3.10/dist-packages/ipykernel/kernelbase.py\u001b[0m in \u001b[0;36m_input_request\u001b[0;34m(self, prompt, ident, parent, password)\u001b[0m\n\u001b[1;32m    893\u001b[0m             \u001b[0;32mexcept\u001b[0m \u001b[0mKeyboardInterrupt\u001b[0m\u001b[0;34m:\u001b[0m\u001b[0;34m\u001b[0m\u001b[0;34m\u001b[0m\u001b[0m\n\u001b[1;32m    894\u001b[0m                 \u001b[0;31m# re-raise KeyboardInterrupt, to truncate traceback\u001b[0m\u001b[0;34m\u001b[0m\u001b[0;34m\u001b[0m\u001b[0m\n\u001b[0;32m--> 895\u001b[0;31m                 \u001b[0;32mraise\u001b[0m \u001b[0mKeyboardInterrupt\u001b[0m\u001b[0;34m(\u001b[0m\u001b[0;34m\"Interrupted by user\"\u001b[0m\u001b[0;34m)\u001b[0m \u001b[0;32mfrom\u001b[0m \u001b[0;32mNone\u001b[0m\u001b[0;34m\u001b[0m\u001b[0;34m\u001b[0m\u001b[0m\n\u001b[0m\u001b[1;32m    896\u001b[0m             \u001b[0;32mexcept\u001b[0m \u001b[0mException\u001b[0m \u001b[0;32mas\u001b[0m \u001b[0me\u001b[0m\u001b[0;34m:\u001b[0m\u001b[0;34m\u001b[0m\u001b[0;34m\u001b[0m\u001b[0m\n\u001b[1;32m    897\u001b[0m                 \u001b[0mself\u001b[0m\u001b[0;34m.\u001b[0m\u001b[0mlog\u001b[0m\u001b[0;34m.\u001b[0m\u001b[0mwarning\u001b[0m\u001b[0;34m(\u001b[0m\u001b[0;34m\"Invalid Message:\"\u001b[0m\u001b[0;34m,\u001b[0m \u001b[0mexc_info\u001b[0m\u001b[0;34m=\u001b[0m\u001b[0;32mTrue\u001b[0m\u001b[0;34m)\u001b[0m\u001b[0;34m\u001b[0m\u001b[0;34m\u001b[0m\u001b[0m\n",
            "\u001b[0;31mKeyboardInterrupt\u001b[0m: Interrupted by user"
          ]
        }
      ],
      "source": [
        "cliente_nome = str(input('Insira o seu nome: '))\n",
        "cliente_nascimento_ano = int(input('Insira seu ano de nascimento: '))\n",
        "ano_atual = 2021\n",
        "if( ( ano_atual - cliente_nascimento_ano ) >= 18 ):\n",
        "  print(f\">> {cliente_nome} você pode comprar bebidas \");\n",
        "else:\n",
        "  print(f\">> {cliente_nome}, infelizmente você não pode comprar bebidas \");"
      ]
    },
    {
      "cell_type": "code",
      "source": [
        "nota_1 = float(input('Insira a Nota 1: '))\n",
        "nota_2 = float(input('Insira a Nota 2: '))\n",
        "nota_3 = float(input('Insira a Nota 3: '))\n",
        "media = ( nota_1 + nota_2 + nota_3 ) / 3\n",
        "if(  media >= 8 ):\n",
        "  print(f\">> Parabéns, você conseguiu passar! :){media:.2f} \");\n",
        "else:\n",
        "  print(f\">> Infelizmente você não conseguiu passar :(  {media:.2f}\");\n"
      ],
      "metadata": {
        "id": "4OIsuIBDCHqO"
      },
      "execution_count": null,
      "outputs": []
    },
    {
      "cell_type": "code",
      "source": [
        "altura = float(input('Qual a sua altura em centimetros? '))\n",
        "if( altura % 2 == 0 ):\n",
        "  print(\"A altura inserida é par\")\n",
        "else:\n",
        "  print(\"A altura inserida é impar\")"
      ],
      "metadata": {
        "id": "_6XFI_zzCJjv"
      },
      "execution_count": null,
      "outputs": []
    },
    {
      "cell_type": "code",
      "source": [
        "dias_quantidade = int(input('Qual o numero do dia? '))\n",
        "dias_por_trimestre = 365 / 4\n",
        "if( dias_quantidade >  dias_por_trimestre * 3 ):\n",
        "  print(\"Esta data está no 4 trimeste\")\n",
        "elif( dias_quantidade >  dias_por_trimestre * 2 ):\n",
        "  print(\"Esta data está no 3 trimeste\")\n",
        "elif( dias_quantidade >  dias_por_trimestre * 1 ):\n",
        "  print(\"Esta data está no 2 trimeste\")\n",
        "else:\n",
        "  print(\"Esta data está no 1 trimeste\")"
      ],
      "metadata": {
        "id": "X6kJG6EkCLEn"
      },
      "execution_count": null,
      "outputs": []
    },
    {
      "cell_type": "code",
      "source": [
        ",# esse é pros monstros em ;)\n",
        "numero_A = int(input('Qual o numero A: '))\n",
        "numero_B = int(input('Qual o numero B: '))\n",
        "numero_C = int(input('Qual o numero C: '))\n",
        "\n",
        "if (numero_A == numero_B):\n",
        "  print(f\"EMPATE!! A({numero_A}) e B({numero_B})\")\n",
        "if (numero_B == numero_C):\n",
        "  print(f\"EMPATE!! B({numero_B}) e C({numero_C})\")\n",
        "if (numero_A == numero_C):\n",
        "  print(f\"EMPATE!! A({numero_A}) e C({numero_C})\")\n",
        "\n",
        "if( numero_A >= numero_B ):\n",
        "  if( numero_B >= numero_C ):\n",
        "    print(f\"ORDEM: A({numero_A}) | B({numero_B}) | C({numero_C}) \")\n",
        "  else:\n",
        "    if( numero_A >= numero_C ):\n",
        "      print(f\"ORDEM: A({numero_A}) | C({numero_C}) | B({numero_B})   \")\n",
        "    else:\n",
        "      print(f\"ORDEM: C({numero_C}) | A({numero_A}) | B({numero_B}) \")\n",
        "else:\n",
        "  if( numero_A >= numero_C ):\n",
        "    print(f\"ORDEM: B({numero_B}) | A({numero_A}) | C({numero_C}) \")\n",
        "  else:\n",
        "    if( numero_B >= numero_C ):\n",
        "      print(f\"ORDEM: B({numero_B}) | C({numero_C}) | A({numero_A})  \")\n",
        "    else:\n",
        "      print(f\"ORDEM: C({numero_C}) | B({numero_B}) | A({numero_A})  \")\n"
      ],
      "metadata": {
        "id": "kFmGJaWmCNqI"
      },
      "execution_count": null,
      "outputs": []
    }
  ]
}